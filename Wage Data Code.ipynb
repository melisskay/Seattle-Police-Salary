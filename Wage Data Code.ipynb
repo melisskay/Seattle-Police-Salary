{
 "cells": [
  {
   "cell_type": "code",
   "execution_count": null,
   "metadata": {},
   "outputs": [],
   "source": [
    "import pandas as pd"
   ]
  },
  {
   "cell_type": "code",
   "execution_count": null,
   "metadata": {},
   "outputs": [],
   "source": [
    "data = pd.read_csv(\"City_of_Seattle_Wage_Data.csv\")"
   ]
  },
  {
   "cell_type": "code",
   "execution_count": null,
   "metadata": {},
   "outputs": [],
   "source": [
    "# review job title for 'Police Department' data\n",
    "data[data['Department'] == 'Police Department']['Job Title'].value_counts()"
   ]
  },
  {
   "cell_type": "code",
   "execution_count": null,
   "metadata": {},
   "outputs": [],
   "source": [
    "# review 'Police Releif & Pension Fund' data\n",
    "data[data['Department'] == 'Police Relief & Pension Fund']"
   ]
  },
  {
   "cell_type": "code",
   "execution_count": null,
   "metadata": {},
   "outputs": [],
   "source": [
    "# add new column for police dept title groupings\n",
    "data['Grouped Title'] = 'Other'\n",
    "data"
   ]
  },
  {
   "cell_type": "code",
   "execution_count": null,
   "metadata": {},
   "outputs": [],
   "source": [
    "# group job titles together based on highest value counts\n",
    "\n",
    "def add_group(df, title):\n",
    "    df.loc[df['Job Title'].str.contains(title), 'Grouped Title'] = title\n",
    "    return df\n",
    "\n",
    "\n",
    "ref = ['Ofcr', 'Sgt', 'Admin', 'Comms', 'Capt', 'Tech', 'Lieut', 'Recruit']\n",
    "for r in ref:\n",
    "    data = add_group(data, r)"
   ]
  },
  {
   "cell_type": "code",
   "execution_count": null,
   "metadata": {},
   "outputs": [],
   "source": [
    "data"
   ]
  },
  {
   "cell_type": "code",
   "execution_count": null,
   "metadata": {},
   "outputs": [],
   "source": [
    "# review job title groups for 'Police Department' data\n",
    "data[data['Department'] == 'Police Department']['Grouped Title'].value_counts()"
   ]
  },
  {
   "cell_type": "code",
   "execution_count": null,
   "metadata": {},
   "outputs": [],
   "source": []
  }
 ],
 "metadata": {
  "kernelspec": {
   "display_name": "Python 3",
   "language": "python",
   "name": "python3"
  },
  "language_info": {
   "codemirror_mode": {
    "name": "ipython",
    "version": 3
   },
   "file_extension": ".py",
   "mimetype": "text/x-python",
   "name": "python",
   "nbconvert_exporter": "python",
   "pygments_lexer": "ipython3",
   "version": "3.7.1"
  }
 },
 "nbformat": 4,
 "nbformat_minor": 2
}
